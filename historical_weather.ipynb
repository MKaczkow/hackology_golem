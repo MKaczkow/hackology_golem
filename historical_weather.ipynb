{
 "cells": [
  {
   "cell_type": "code",
   "execution_count": 24,
   "metadata": {},
   "outputs": [],
   "source": [
    "# based on:\n",
    "# https://open-meteo.com/en/docs/historical-weather-api"
   ]
  },
  {
   "cell_type": "code",
   "execution_count": 25,
   "metadata": {},
   "outputs": [],
   "source": [
    "import openmeteo_requests\n",
    "\n",
    "import requests_cache\n",
    "import pandas as pd\n",
    "from retry_requests import retry\n"
   ]
  },
  {
   "cell_type": "code",
   "execution_count": 26,
   "metadata": {},
   "outputs": [],
   "source": [
    "# Setup the Open-Meteo API client with cache and retry on error\n",
    "cache_session = requests_cache.CachedSession('.cache', expire_after = -1)\n",
    "retry_session = retry(cache_session, retries = 5, backoff_factor = 0.2)\n",
    "openmeteo = openmeteo_requests.Client(session = retry_session)\n"
   ]
  },
  {
   "cell_type": "code",
   "execution_count": 27,
   "metadata": {},
   "outputs": [],
   "source": [
    "\n",
    "# Make sure all required weather variables are listed here\n",
    "# The order of variables in hourly or daily is important to assign them correctly below\n",
    "url = \"https://archive-api.open-meteo.com/v1/archive\"\n",
    "params = {\n",
    "\t\"latitude\": 52.52,\n",
    "\t\"longitude\": 13.41,\n",
    "\t\"start_date\": \"2004-10-03\",\n",
    "\t\"end_date\": \"2004-10-17\",\n",
    "\t\"daily\": [\"weather_code\", \"rain_sum\", \"sunshine_duration\"]\n",
    "}\n",
    "responses = openmeteo.weather_api(url, params=params)\n"
   ]
  },
  {
   "cell_type": "code",
   "execution_count": 28,
   "metadata": {},
   "outputs": [
    {
     "name": "stdout",
     "output_type": "stream",
     "text": [
      "Coordinates 52.5483283996582°N 13.407821655273438°E\n",
      "Elevation 38.0 m asl\n",
      "Timezone None None\n",
      "Timezone difference to GMT+0 0 s\n"
     ]
    }
   ],
   "source": [
    "# Process first location. Add a for-loop for multiple locations or weather models\n",
    "response = responses[0]\n",
    "print(f\"Coordinates {response.Latitude()}°N {response.Longitude()}°E\")\n",
    "print(f\"Elevation {response.Elevation()} m asl\")\n",
    "print(f\"Timezone {response.Timezone()} {response.TimezoneAbbreviation()}\")\n",
    "print(f\"Timezone difference to GMT+0 {response.UtcOffsetSeconds()} s\")\n"
   ]
  },
  {
   "cell_type": "code",
   "execution_count": 29,
   "metadata": {},
   "outputs": [],
   "source": [
    "daily = response.Daily()\n",
    "weathers_code = daily.Variables(0).ValuesAsNumpy()\n",
    "rain_sum = daily.Variables(1).ValuesAsNumpy()\n",
    "sunshine_duration = daily.Variables(2).ValuesAsNumpy()\n"
   ]
  },
  {
   "cell_type": "code",
   "execution_count": 30,
   "metadata": {},
   "outputs": [],
   "source": [
    "\n",
    "daily_data = {\"date\": pd.date_range(\n",
    "\tstart = pd.to_datetime(daily.Time(), unit = \"s\", utc = True),\n",
    "\tend = pd.to_datetime(daily.TimeEnd(), unit = \"s\", utc = True),\n",
    "\tfreq = pd.Timedelta(seconds = daily.Interval()),\n",
    "\tinclusive = \"left\"\n",
    ")}\n",
    "daily_data[\"weathers_code\"] = weathers_code\n",
    "daily_data[\"rain_sum\"] = rain_sum\n",
    "daily_data[\"sunshine_duration\"] = sunshine_duration\n"
   ]
  },
  {
   "cell_type": "code",
   "execution_count": 31,
   "metadata": {},
   "outputs": [
    {
     "name": "stdout",
     "output_type": "stream",
     "text": [
      "                        date  weathers_code  rain_sum  sunshine_duration\n",
      "0  2004-10-03 00:00:00+00:00            2.0       0.0       36037.921875\n",
      "1  2004-10-04 00:00:00+00:00            3.0       0.0       28481.058594\n",
      "2  2004-10-05 00:00:00+00:00            1.0       0.0       36000.000000\n",
      "3  2004-10-06 00:00:00+00:00           53.0       1.0       18992.345703\n",
      "4  2004-10-07 00:00:00+00:00            3.0       0.0       35736.089844\n",
      "5  2004-10-08 00:00:00+00:00            3.0       0.0       18751.058594\n",
      "6  2004-10-09 00:00:00+00:00            3.0       0.0       29540.986328\n",
      "7  2004-10-10 00:00:00+00:00            3.0       0.0       28730.789062\n",
      "8  2004-10-11 00:00:00+00:00            0.0       0.0       35163.562500\n",
      "9  2004-10-12 00:00:00+00:00            0.0       0.0       34953.515625\n",
      "10 2004-10-13 00:00:00+00:00            3.0       0.0       29209.494141\n",
      "11 2004-10-14 00:00:00+00:00            1.0       0.0       34442.671875\n",
      "12 2004-10-15 00:00:00+00:00           53.0       2.2        3548.996338\n",
      "13 2004-10-16 00:00:00+00:00           53.0       3.5        1226.747070\n",
      "14 2004-10-17 00:00:00+00:00           51.0       1.3       29387.103516\n"
     ]
    }
   ],
   "source": [
    "daily_dataframe = pd.DataFrame(data = daily_data)\n",
    "print(daily_dataframe)\n"
   ]
  },
  {
   "cell_type": "code",
   "execution_count": 32,
   "metadata": {},
   "outputs": [
    {
     "data": {
      "text/html": [
       "<div>\n",
       "<style scoped>\n",
       "    .dataframe tbody tr th:only-of-type {\n",
       "        vertical-align: middle;\n",
       "    }\n",
       "\n",
       "    .dataframe tbody tr th {\n",
       "        vertical-align: top;\n",
       "    }\n",
       "\n",
       "    .dataframe thead th {\n",
       "        text-align: right;\n",
       "    }\n",
       "</style>\n",
       "<table border=\"1\" class=\"dataframe\">\n",
       "  <thead>\n",
       "    <tr style=\"text-align: right;\">\n",
       "      <th></th>\n",
       "      <th>date</th>\n",
       "      <th>weathers_code</th>\n",
       "      <th>rain_sum</th>\n",
       "      <th>sunshine_duration</th>\n",
       "    </tr>\n",
       "  </thead>\n",
       "  <tbody>\n",
       "    <tr>\n",
       "      <th>14</th>\n",
       "      <td>2004-10-17 00:00:00+00:00</td>\n",
       "      <td>51.0</td>\n",
       "      <td>1.3</td>\n",
       "      <td>29387.103516</td>\n",
       "    </tr>\n",
       "  </tbody>\n",
       "</table>\n",
       "</div>"
      ],
      "text/plain": [
       "                        date  weathers_code  rain_sum  sunshine_duration\n",
       "14 2004-10-17 00:00:00+00:00           51.0       1.3       29387.103516"
      ]
     },
     "execution_count": 32,
     "metadata": {},
     "output_type": "execute_result"
    }
   ],
   "source": [
    "daily_dataframe[daily_dataframe[\"weathers_code\"] == 51.0]"
   ]
  },
  {
   "cell_type": "code",
   "execution_count": 33,
   "metadata": {},
   "outputs": [
    {
     "data": {
      "text/html": [
       "<div>\n",
       "<style scoped>\n",
       "    .dataframe tbody tr th:only-of-type {\n",
       "        vertical-align: middle;\n",
       "    }\n",
       "\n",
       "    .dataframe tbody tr th {\n",
       "        vertical-align: top;\n",
       "    }\n",
       "\n",
       "    .dataframe thead th {\n",
       "        text-align: right;\n",
       "    }\n",
       "</style>\n",
       "<table border=\"1\" class=\"dataframe\">\n",
       "  <thead>\n",
       "    <tr style=\"text-align: right;\">\n",
       "      <th></th>\n",
       "      <th>date</th>\n",
       "      <th>weathers_code</th>\n",
       "      <th>rain_sum</th>\n",
       "      <th>sunshine_duration</th>\n",
       "    </tr>\n",
       "  </thead>\n",
       "  <tbody>\n",
       "    <tr>\n",
       "      <th>3</th>\n",
       "      <td>2004-10-06 00:00:00+00:00</td>\n",
       "      <td>53.0</td>\n",
       "      <td>1.0</td>\n",
       "      <td>18992.345703</td>\n",
       "    </tr>\n",
       "    <tr>\n",
       "      <th>12</th>\n",
       "      <td>2004-10-15 00:00:00+00:00</td>\n",
       "      <td>53.0</td>\n",
       "      <td>2.2</td>\n",
       "      <td>3548.996338</td>\n",
       "    </tr>\n",
       "    <tr>\n",
       "      <th>13</th>\n",
       "      <td>2004-10-16 00:00:00+00:00</td>\n",
       "      <td>53.0</td>\n",
       "      <td>3.5</td>\n",
       "      <td>1226.747070</td>\n",
       "    </tr>\n",
       "    <tr>\n",
       "      <th>14</th>\n",
       "      <td>2004-10-17 00:00:00+00:00</td>\n",
       "      <td>51.0</td>\n",
       "      <td>1.3</td>\n",
       "      <td>29387.103516</td>\n",
       "    </tr>\n",
       "  </tbody>\n",
       "</table>\n",
       "</div>"
      ],
      "text/plain": [
       "                        date  weathers_code  rain_sum  sunshine_duration\n",
       "3  2004-10-06 00:00:00+00:00           53.0       1.0       18992.345703\n",
       "12 2004-10-15 00:00:00+00:00           53.0       2.2        3548.996338\n",
       "13 2004-10-16 00:00:00+00:00           53.0       3.5        1226.747070\n",
       "14 2004-10-17 00:00:00+00:00           51.0       1.3       29387.103516"
      ]
     },
     "execution_count": 33,
     "metadata": {},
     "output_type": "execute_result"
    }
   ],
   "source": [
    "daily_dataframe[daily_dataframe[\"rain_sum\"] > 0.0]"
   ]
  },
  {
   "cell_type": "code",
   "execution_count": 34,
   "metadata": {},
   "outputs": [
    {
     "data": {
      "text/plain": [
       "rain_sum\n",
       "0.0    11\n",
       "1.0     1\n",
       "2.2     1\n",
       "3.5     1\n",
       "1.3     1\n",
       "Name: count, dtype: int64"
      ]
     },
     "execution_count": 34,
     "metadata": {},
     "output_type": "execute_result"
    }
   ],
   "source": [
    "daily_dataframe[\"rain_sum\"].value_counts()"
   ]
  },
  {
   "cell_type": "code",
   "execution_count": null,
   "metadata": {},
   "outputs": [],
   "source": []
  }
 ],
 "metadata": {
  "kernelspec": {
   "display_name": "venv",
   "language": "python",
   "name": "python3"
  },
  "language_info": {
   "codemirror_mode": {
    "name": "ipython",
    "version": 3
   },
   "file_extension": ".py",
   "mimetype": "text/x-python",
   "name": "python",
   "nbconvert_exporter": "python",
   "pygments_lexer": "ipython3",
   "version": "3.12.1"
  }
 },
 "nbformat": 4,
 "nbformat_minor": 2
}
