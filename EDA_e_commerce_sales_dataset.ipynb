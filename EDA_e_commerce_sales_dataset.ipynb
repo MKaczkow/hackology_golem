{
 "cells": [
  {
   "cell_type": "code",
   "execution_count": 2,
   "metadata": {},
   "outputs": [],
   "source": [
    "import pandas as pd"
   ]
  },
  {
   "cell_type": "code",
   "execution_count": 3,
   "metadata": {},
   "outputs": [],
   "source": [
    "main_df = pd.read_csv(\"data/e_commerce_sales_dataset/Sale Report.csv\")"
   ]
  },
  {
   "cell_type": "code",
   "execution_count": 4,
   "metadata": {},
   "outputs": [
    {
     "name": "stdout",
     "output_type": "stream",
     "text": [
      "<class 'pandas.core.frame.DataFrame'>\n",
      "RangeIndex: 9271 entries, 0 to 9270\n",
      "Data columns (total 7 columns):\n",
      " #   Column      Non-Null Count  Dtype  \n",
      "---  ------      --------------  -----  \n",
      " 0   index       9271 non-null   int64  \n",
      " 1   SKU Code    9188 non-null   object \n",
      " 2   Design No.  9235 non-null   object \n",
      " 3   Stock       9235 non-null   float64\n",
      " 4   Category    9226 non-null   object \n",
      " 5   Size        9235 non-null   object \n",
      " 6   Color       9226 non-null   object \n",
      "dtypes: float64(1), int64(1), object(5)\n",
      "memory usage: 507.1+ KB\n"
     ]
    }
   ],
   "source": [
    "main_df.info()"
   ]
  },
  {
   "cell_type": "code",
   "execution_count": 5,
   "metadata": {},
   "outputs": [
    {
     "data": {
      "text/html": [
       "<div>\n",
       "<style scoped>\n",
       "    .dataframe tbody tr th:only-of-type {\n",
       "        vertical-align: middle;\n",
       "    }\n",
       "\n",
       "    .dataframe tbody tr th {\n",
       "        vertical-align: top;\n",
       "    }\n",
       "\n",
       "    .dataframe thead th {\n",
       "        text-align: right;\n",
       "    }\n",
       "</style>\n",
       "<table border=\"1\" class=\"dataframe\">\n",
       "  <thead>\n",
       "    <tr style=\"text-align: right;\">\n",
       "      <th></th>\n",
       "      <th>index</th>\n",
       "      <th>SKU Code</th>\n",
       "      <th>Design No.</th>\n",
       "      <th>Stock</th>\n",
       "      <th>Category</th>\n",
       "      <th>Size</th>\n",
       "      <th>Color</th>\n",
       "    </tr>\n",
       "  </thead>\n",
       "  <tbody>\n",
       "    <tr>\n",
       "      <th>0</th>\n",
       "      <td>0</td>\n",
       "      <td>AN201-RED-L</td>\n",
       "      <td>AN201</td>\n",
       "      <td>5.0</td>\n",
       "      <td>AN : LEGGINGS</td>\n",
       "      <td>L</td>\n",
       "      <td>Red</td>\n",
       "    </tr>\n",
       "    <tr>\n",
       "      <th>1</th>\n",
       "      <td>1</td>\n",
       "      <td>AN201-RED-M</td>\n",
       "      <td>AN201</td>\n",
       "      <td>5.0</td>\n",
       "      <td>AN : LEGGINGS</td>\n",
       "      <td>M</td>\n",
       "      <td>Red</td>\n",
       "    </tr>\n",
       "    <tr>\n",
       "      <th>2</th>\n",
       "      <td>2</td>\n",
       "      <td>AN201-RED-S</td>\n",
       "      <td>AN201</td>\n",
       "      <td>3.0</td>\n",
       "      <td>AN : LEGGINGS</td>\n",
       "      <td>S</td>\n",
       "      <td>Red</td>\n",
       "    </tr>\n",
       "    <tr>\n",
       "      <th>3</th>\n",
       "      <td>3</td>\n",
       "      <td>AN201-RED-XL</td>\n",
       "      <td>AN201</td>\n",
       "      <td>6.0</td>\n",
       "      <td>AN : LEGGINGS</td>\n",
       "      <td>XL</td>\n",
       "      <td>Red</td>\n",
       "    </tr>\n",
       "    <tr>\n",
       "      <th>4</th>\n",
       "      <td>4</td>\n",
       "      <td>AN201-RED-XXL</td>\n",
       "      <td>AN201</td>\n",
       "      <td>3.0</td>\n",
       "      <td>AN : LEGGINGS</td>\n",
       "      <td>XXL</td>\n",
       "      <td>Red</td>\n",
       "    </tr>\n",
       "  </tbody>\n",
       "</table>\n",
       "</div>"
      ],
      "text/plain": [
       "   index       SKU Code Design No.  Stock       Category Size Color\n",
       "0      0    AN201-RED-L      AN201    5.0  AN : LEGGINGS    L   Red\n",
       "1      1    AN201-RED-M      AN201    5.0  AN : LEGGINGS    M   Red\n",
       "2      2    AN201-RED-S      AN201    3.0  AN : LEGGINGS    S   Red\n",
       "3      3   AN201-RED-XL      AN201    6.0  AN : LEGGINGS   XL   Red\n",
       "4      4  AN201-RED-XXL      AN201    3.0  AN : LEGGINGS  XXL   Red"
      ]
     },
     "execution_count": 5,
     "metadata": {},
     "output_type": "execute_result"
    }
   ],
   "source": [
    "main_df.head()"
   ]
  },
  {
   "cell_type": "code",
   "execution_count": 6,
   "metadata": {},
   "outputs": [
    {
     "data": {
      "text/plain": [
       "index  SKU Code           Design No.  Stock  Category       Size  Color \n",
       "9234   SET462-KR-NP-XXXL  SET462      40.0   SET            XXXL  Teal      1\n",
       "0      AN201-RED-L        AN201       5.0    AN : LEGGINGS  L     Red       1\n",
       "1      AN201-RED-M        AN201       5.0    AN : LEGGINGS  M     Red       1\n",
       "2      AN201-RED-S        AN201       3.0    AN : LEGGINGS  S     Red       1\n",
       "9218   SET449-KR-NP-XS    SET449      40.0   SET            XS    Wine      1\n",
       "                                                                           ..\n",
       "8      AN202-ORANGE-XL    AN202       8.0    AN : LEGGINGS  XL    Orange    1\n",
       "7      AN202-ORANGE-S     AN202       16.0   AN : LEGGINGS  S     Orange    1\n",
       "6      AN202-ORANGE-M     AN202       3.0    AN : LEGGINGS  M     Orange    1\n",
       "5      AN202-ORANGE-L     AN202       11.0   AN : LEGGINGS  L     Orange    1\n",
       "4      AN201-RED-XXL      AN201       3.0    AN : LEGGINGS  XXL   Red       1\n",
       "Name: count, Length: 9188, dtype: int64"
      ]
     },
     "execution_count": 6,
     "metadata": {},
     "output_type": "execute_result"
    }
   ],
   "source": [
    "main_df.value_counts()"
   ]
  },
  {
   "cell_type": "code",
   "execution_count": null,
   "metadata": {},
   "outputs": [],
   "source": []
  }
 ],
 "metadata": {
  "kernelspec": {
   "display_name": "venv",
   "language": "python",
   "name": "python3"
  },
  "language_info": {
   "codemirror_mode": {
    "name": "ipython",
    "version": 3
   },
   "file_extension": ".py",
   "mimetype": "text/x-python",
   "name": "python",
   "nbconvert_exporter": "python",
   "pygments_lexer": "ipython3",
   "version": "3.12.1"
  }
 },
 "nbformat": 4,
 "nbformat_minor": 2
}
