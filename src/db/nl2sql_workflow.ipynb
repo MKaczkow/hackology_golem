{
 "cells": [
  {
   "cell_type": "code",
   "execution_count": 12,
   "metadata": {},
   "outputs": [
    {
     "data": {
      "text/plain": [
       "True"
      ]
     },
     "execution_count": 12,
     "metadata": {},
     "output_type": "execute_result"
    }
   ],
   "source": [
    "from dotenv import load_dotenv\n",
    "from typing import Annotated\n",
    "from langchain_experimental.tools import PythonREPLTool\n",
    "from langchain_core.messages import HumanMessage\n",
    "from langchain_core.prompts import ChatPromptTemplate, MessagesPlaceholder\n",
    "from langchain_openai import ChatOpenAI\n",
    "from pydantic import BaseModel\n",
    "from typing import Literal\n",
    "import functools\n",
    "import operator\n",
    "from typing import Sequence\n",
    "from typing_extensions import TypedDict\n",
    "\n",
    "from langchain_core.messages import BaseMessage\n",
    "from langchain.tools import tool\n",
    "\n",
    "from langgraph.graph import END, StateGraph, START\n",
    "from langgraph.prebuilt import create_react_agent\n",
    "\n",
    "python_repl_tool = PythonREPLTool()\n",
    "load_dotenv()"
   ]
  },
  {
   "cell_type": "code",
   "execution_count": 13,
   "metadata": {},
   "outputs": [],
   "source": [
    "def agent_node(state, agent, name):\n",
    "    result = agent.invoke(state)\n",
    "    return {\n",
    "        \"messages\": [HumanMessage(content=result[\"messages\"][-1].content, name=name)]\n",
    "    }\n"
   ]
  },
  {
   "cell_type": "code",
   "execution_count": 14,
   "metadata": {},
   "outputs": [],
   "source": [
    "class AgentState(TypedDict):\n",
    "    # The annotation tells the graph that new messages will always\n",
    "    # be added to the current states\n",
    "    messages: Annotated[Sequence[BaseMessage], operator.add]\n",
    "    # The 'next' field indicates where to route to next\n",
    "    next: str"
   ]
  },
  {
   "cell_type": "code",
   "execution_count": 15,
   "metadata": {},
   "outputs": [],
   "source": [
    "members = [\"DataBaseAgent\"]\n",
    "system_prompt = (\n",
    "    \"You are a supervisor tasked with managing a conversation between the\"\n",
    "    \" following workers:  {members}. Given the following user request,\"\n",
    "    \" respond with the worker to act next. Each worker will perform a\"\n",
    "    \" task and respond with their results and status. When finished,\"\n",
    "    \" respond with FINISH.\"\n",
    "    \" DataAgent can provide you data that can be used for further analisys\"\n",
    "    \" For example it can provide you data for generating helpful and truthful insights for the user\"\n",
    ")\n",
    "# Our team supervisor is an LLM node. It just picks the next agent to process\n",
    "# and decides when the work is completed\n",
    "options = [\"FINISH\"] + members\n"
   ]
  },
  {
   "cell_type": "code",
   "execution_count": 16,
   "metadata": {},
   "outputs": [],
   "source": [
    "class routeResponse(BaseModel):\n",
    "    next: Literal[*options]\n"
   ]
  },
  {
   "cell_type": "code",
   "execution_count": 17,
   "metadata": {},
   "outputs": [],
   "source": [
    "prompt = ChatPromptTemplate.from_messages(\n",
    "    [\n",
    "        (\"system\", system_prompt),\n",
    "        MessagesPlaceholder(variable_name=\"messages\"),\n",
    "        (\n",
    "            \"system\",\n",
    "            \"Given the conversation above, who should act next?\"\n",
    "            \" Or should we FINISH? Select one of: {options}\",\n",
    "        ),\n",
    "    ]\n",
    ").partial(options=str(options), members=\", \".join(members))\n"
   ]
  },
  {
   "cell_type": "code",
   "execution_count": 18,
   "metadata": {},
   "outputs": [],
   "source": [
    "llm = ChatOpenAI(model=\"gpt-4o-mini\")"
   ]
  },
  {
   "cell_type": "code",
   "execution_count": 19,
   "metadata": {},
   "outputs": [],
   "source": [
    "def supervisor_agent(state):\n",
    "    supervisor_chain = prompt | llm.with_structured_output(routeResponse)\n",
    "    return supervisor_chain.invoke(state)"
   ]
  },
  {
   "cell_type": "code",
   "execution_count": 20,
   "metadata": {},
   "outputs": [],
   "source": [
    "@tool\n",
    "def get_data_from_database():\n",
    "    \"\"\"\n",
    "    Fetch data from SQL database and return it as a dictionary \n",
    "    \"\"\"\n",
    "    # The best-selling products are:\n",
    "    # 1. **Wimmers gute Semmelknödel** - Sold 212,968 units\n",
    "    # 2. **Gorgonzola Telino** - Sold 212,882 units\n",
    "    # 3. **Steeleye Stout** - Sold 211,790 units\n",
    "    # 4. **Perth Pasties** - Sold 211,303 units\n",
    "    # 5. **Zaanse koeken** - Sold 210,925 units\n",
    "    data = {\n",
    "        1: {\n",
    "            \"item\": \"Wimmers gute Semmelknödel\",\n",
    "            \"count\": 212968, \n",
    "        },\n",
    "        2: {\n",
    "            \"item\": \"Gorgonzola Telino\",\n",
    "            \"count\": 212882,\n",
    "        },\n",
    "        3: {\n",
    "            \"item\": \"Steeleye Stout\",\n",
    "            \"count\": 211790,\n",
    "        },\n",
    "        4: {\n",
    "            \"item\": \"Perth Pasties\",\n",
    "            \"count\": 211303,\n",
    "        },\n",
    "        5: {\n",
    "            \"item\": \"Zaanse koeken\",\n",
    "            \"count\": 210925,\n",
    "        },\n",
    "    }\n",
    "\n",
    "    return str(data)\n",
    "    \n"
   ]
  },
  {
   "cell_type": "code",
   "execution_count": 21,
   "metadata": {},
   "outputs": [],
   "source": [
    "data_base_agent = create_react_agent(llm, tools=[get_data_from_database])\n",
    "data_base_agent = functools.partial(agent_node, agent=data_base_agent, name=\"DataBaseAgent\")"
   ]
  },
  {
   "cell_type": "code",
   "execution_count": 22,
   "metadata": {},
   "outputs": [
    {
     "data": {
      "text/plain": [
       "<langgraph.graph.state.StateGraph at 0x1cddeda02c0>"
      ]
     },
     "execution_count": 22,
     "metadata": {},
     "output_type": "execute_result"
    }
   ],
   "source": [
    "workflow = StateGraph(AgentState)\n",
    "workflow.add_node(\"DataBaseAgent\", data_base_agent)\n",
    "workflow.add_node(\"Supervisor\", supervisor_agent)"
   ]
  },
  {
   "cell_type": "code",
   "execution_count": 23,
   "metadata": {},
   "outputs": [
    {
     "data": {
      "text/plain": [
       "<langgraph.graph.state.StateGraph at 0x1cddeda02c0>"
      ]
     },
     "execution_count": 23,
     "metadata": {},
     "output_type": "execute_result"
    }
   ],
   "source": [
    "for member in members:\n",
    "    # We want our workers to ALWAYS \"report back\" to the supervisor when done\n",
    "    workflow.add_edge(member, \"Supervisor\")\n",
    "\n",
    "# The supervisor populates the \"next\" field in the graph state\n",
    "# which routes to a node or finishes\n",
    "conditional_map = {k: k for k in members}\n",
    "conditional_map[\"FINISH\"] = END\n",
    "workflow.add_conditional_edges(\"Supervisor\", lambda x: x[\"next\"], conditional_map)\n"
   ]
  },
  {
   "cell_type": "code",
   "execution_count": 24,
   "metadata": {},
   "outputs": [],
   "source": [
    "# Finally, add entrypoint\n",
    "workflow.add_edge(START, \"Supervisor\")\n",
    "\n",
    "graph = workflow.compile()"
   ]
  },
  {
   "cell_type": "code",
   "execution_count": 25,
   "metadata": {},
   "outputs": [
    {
     "data": {
      "image/jpeg": "[encoded data removed]",
      "text/plain": [
       "<IPython.core.display.Image object>"
      ]
     },
     "metadata": {},
     "output_type": "display_data"
    }
   ],
   "source": [
    "from IPython.display import Image, display\n",
    "\n",
    "display(Image(graph.get_graph().draw_mermaid_png()))\n"
   ]
  },
  {
   "cell_type": "code",
   "execution_count": 26,
   "metadata": {},
   "outputs": [
    {
     "name": "stdout",
     "output_type": "stream",
     "text": [
      "{'Supervisor': {'next': 'DataBaseAgent'}}\n",
      "----\n",
      "{'DataBaseAgent': {'messages': [HumanMessage(content='The top 3 best-selling products are:\\n\\n1. **Wimmers gute Semmelknödel** - 212,968 units sold\\n2. **Gorgonzola Telino** - 212,882 units sold\\n3. **Steeleye Stout** - 211,790 units sold', additional_kwargs={}, response_metadata={}, name='DataBaseAgent')]}}\n",
      "----\n",
      "{'Supervisor': {'next': 'FINISH'}}\n",
      "----\n"
     ]
    }
   ],
   "source": [
    "for s in graph.stream(\n",
    "    {\n",
    "        \"messages\": [\n",
    "            # HumanMessage(content=\"What are top 5 best-selling products?\")\n",
    "            HumanMessage(content=\"What are top 3 best-selling products?\")\n",
    "            # HumanMessage(content=\"What is the best-selling product?\")\n",
    "        ]\n",
    "    }\n",
    "):\n",
    "\n",
    "    if \"__end__\" not in s:\n",
    "    \n",
    "        print(s)\n",
    "        if \"DataBaseAgent\" in s:\n",
    "            data_base_agent_output = s[\"DataBaseAgent\"]\n",
    "        print(\"----\")"
   ]
  },
  {
   "cell_type": "code",
   "execution_count": 27,
   "metadata": {},
   "outputs": [
    {
     "name": "stdout",
     "output_type": "stream",
     "text": [
      "The top 3 best-selling products are:\n",
      "\n",
      "1. **Wimmers gute Semmelknödel** - 212,968 units sold\n",
      "2. **Gorgonzola Telino** - 212,882 units sold\n",
      "3. **Steeleye Stout** - 211,790 units sold\n"
     ]
    }
   ],
   "source": [
    "print(data_base_agent_output['messages'][0].content)"
   ]
  },
  {
   "cell_type": "code",
   "execution_count": null,
   "metadata": {},
   "outputs": [],
   "source": []
  }
 ],
 "metadata": {
  "kernelspec": {
   "display_name": "venv",
   "language": "python",
   "name": "python3"
  },
  "language_info": {
   "codemirror_mode": {
    "name": "ipython",
    "version": 3
   },
   "file_extension": ".py",
   "mimetype": "text/x-python",
   "name": "python",
   "nbconvert_exporter": "python",
   "pygments_lexer": "ipython3",
   "version": "3.12.1"
  }
 },
 "nbformat": 4,
 "nbformat_minor": 2
}
