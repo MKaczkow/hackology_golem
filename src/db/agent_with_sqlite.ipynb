{
 "cells": [
  {
   "cell_type": "code",
   "execution_count": 1,
   "metadata": {},
   "outputs": [],
   "source": [
    "import sqlite3\n",
    "import os\n",
    "from dotenv import load_dotenv\n",
    "\n",
    "from langchain_community.agent_toolkits.sql.toolkit import SQLDatabaseToolkit\n",
    "from langchain_community.utilities.sql_database import SQLDatabase\n",
    "\n",
    "from sqlalchemy import create_engine\n",
    "from sqlalchemy.pool import StaticPool"
   ]
  },
  {
   "cell_type": "code",
   "execution_count": 2,
   "metadata": {},
   "outputs": [
    {
     "data": {
      "text/plain": [
       "True"
      ]
     },
     "execution_count": 2,
     "metadata": {},
     "output_type": "execute_result"
    }
   ],
   "source": [
    "load_dotenv()"
   ]
  },
  {
   "cell_type": "code",
   "execution_count": 4,
   "metadata": {},
   "outputs": [],
   "source": [
    "def get_engine_for_local_db(db_path):\n",
    "    \"\"\"Create engine for local SQLite database.\"\"\"\n",
    "    connection = sqlite3.connect(db_path, check_same_thread=False)\n",
    "    return create_engine(\n",
    "        \"sqlite://\",\n",
    "        creator=lambda: connection,\n",
    "        poolclass=StaticPool,\n",
    "        connect_args={\"check_same_thread\": False},\n",
    "    )"
   ]
  },
  {
   "cell_type": "code",
   "execution_count": 5,
   "metadata": {},
   "outputs": [
    {
     "name": "stdout",
     "output_type": "stream",
     "text": [
      "data/northwind_example_db/sqlite_northwind.db\n"
     ]
    }
   ],
   "source": [
    "db_path = os.environ.get(\"DB_PATH\")\n",
    "print(db_path)"
   ]
  },
  {
   "cell_type": "code",
   "execution_count": 5,
   "metadata": {},
   "outputs": [
    {
     "name": "stdout",
     "output_type": "stream",
     "text": [
      "Engine(sqlite://)\n"
     ]
    }
   ],
   "source": [
    "engine = get_engine_for_local_db(db_path)\n",
    "print(engine)"
   ]
  },
  {
   "cell_type": "code",
   "execution_count": 6,
   "metadata": {},
   "outputs": [
    {
     "name": "stdout",
     "output_type": "stream",
     "text": [
      "<langchain_community.utilities.sql_database.SQLDatabase object at 0x000001AECAF00950>\n"
     ]
    }
   ],
   "source": [
    "db = SQLDatabase(engine)\n",
    "print(db)"
   ]
  },
  {
   "cell_type": "code",
   "execution_count": 7,
   "metadata": {},
   "outputs": [
    {
     "name": "stdout",
     "output_type": "stream",
     "text": [
      "client=<openai.resources.chat.completions.Completions object at 0x000001AECB5B3710> async_client=<openai.resources.chat.completions.AsyncCompletions object at 0x000001AECB5DD430> root_client=<openai.OpenAI object at 0x000001AECAB3CA40> root_async_client=<openai.AsyncOpenAI object at 0x000001AECB344230> model_name='gpt-4o-mini' model_kwargs={} openai_api_key=SecretStr('**********')\n"
     ]
    }
   ],
   "source": [
    "from langchain_openai import ChatOpenAI\n",
    "\n",
    "llm = ChatOpenAI(model=\"gpt-4o-mini\")\n",
    "print(llm)"
   ]
  },
  {
   "cell_type": "code",
   "execution_count": 8,
   "metadata": {},
   "outputs": [
    {
     "name": "stdout",
     "output_type": "stream",
     "text": [
      "db=<langchain_community.utilities.sql_database.SQLDatabase object at 0x000001AECAF00950> llm=ChatOpenAI(client=<openai.resources.chat.completions.Completions object at 0x000001AECB5B3710>, async_client=<openai.resources.chat.completions.AsyncCompletions object at 0x000001AECB5DD430>, root_client=<openai.OpenAI object at 0x000001AECAB3CA40>, root_async_client=<openai.AsyncOpenAI object at 0x000001AECB344230>, model_name='gpt-4o-mini', model_kwargs={}, openai_api_key=SecretStr('**********'))\n"
     ]
    }
   ],
   "source": [
    "toolkit = SQLDatabaseToolkit(db=db, llm=llm)\n",
    "print(toolkit)"
   ]
  },
  {
   "cell_type": "code",
   "execution_count": 9,
   "metadata": {},
   "outputs": [
    {
     "name": "stdout",
     "output_type": "stream",
     "text": [
      "[QuerySQLDataBaseTool(description=\"Input to this tool is a detailed and correct SQL query, output is a result from the database. If the query is not correct, an error message will be returned. If an error is returned, rewrite the query, check the query, and try again. If you encounter an issue with Unknown column 'xxxx' in 'field list', use sql_db_schema to query the correct table fields.\", db=<langchain_community.utilities.sql_database.SQLDatabase object at 0x000001AECAF00950>), InfoSQLDatabaseTool(description='Input to this tool is a comma-separated list of tables, output is the schema and sample rows for those tables. Be sure that the tables actually exist by calling sql_db_list_tables first! Example Input: table1, table2, table3', db=<langchain_community.utilities.sql_database.SQLDatabase object at 0x000001AECAF00950>), ListSQLDatabaseTool(db=<langchain_community.utilities.sql_database.SQLDatabase object at 0x000001AECAF00950>), QuerySQLCheckerTool(description='Use this tool to double check if your query is correct before executing it. Always use this tool before executing a query with sql_db_query!', db=<langchain_community.utilities.sql_database.SQLDatabase object at 0x000001AECAF00950>, llm=ChatOpenAI(client=<openai.resources.chat.completions.Completions object at 0x000001AECB5B3710>, async_client=<openai.resources.chat.completions.AsyncCompletions object at 0x000001AECB5DD430>, root_client=<openai.OpenAI object at 0x000001AECAB3CA40>, root_async_client=<openai.AsyncOpenAI object at 0x000001AECB344230>, model_name='gpt-4o-mini', model_kwargs={}, openai_api_key=SecretStr('**********')), llm_chain=LLMChain(verbose=False, prompt=PromptTemplate(input_variables=['dialect', 'query'], input_types={}, partial_variables={}, template='\\n{query}\\nDouble check the {dialect} query above for common mistakes, including:\\n- Using NOT IN with NULL values\\n- Using UNION when UNION ALL should have been used\\n- Using BETWEEN for exclusive ranges\\n- Data type mismatch in predicates\\n- Properly quoting identifiers\\n- Using the correct number of arguments for functions\\n- Casting to the correct data type\\n- Using the proper columns for joins\\n\\nIf there are any of the above mistakes, rewrite the query. If there are no mistakes, just reproduce the original query.\\n\\nOutput the final SQL query only.\\n\\nSQL Query: '), llm=ChatOpenAI(client=<openai.resources.chat.completions.Completions object at 0x000001AECB5B3710>, async_client=<openai.resources.chat.completions.AsyncCompletions object at 0x000001AECB5DD430>, root_client=<openai.OpenAI object at 0x000001AECAB3CA40>, root_async_client=<openai.AsyncOpenAI object at 0x000001AECB344230>, model_name='gpt-4o-mini', model_kwargs={}, openai_api_key=SecretStr('**********')), output_parser=StrOutputParser(), llm_kwargs={}))]\n"
     ]
    }
   ],
   "source": [
    "tools = toolkit.get_tools()\n",
    "print(tools)"
   ]
  },
  {
   "cell_type": "code",
   "execution_count": 10,
   "metadata": {},
   "outputs": [],
   "source": [
    "from langchain_core.messages import SystemMessage\n",
    "\n",
    "SQL_PREFIX = \"\"\"You are an agent designed to interact with a SQL database.\n",
    "Given an input question, create a syntactically correct SQLite query to run, then look at the results of the query and return the answer.\n",
    "Unless the user specifies a specific number of examples they wish to obtain, always limit your query to at most 5 results.\n",
    "You can order the results by a relevant column to return the most interesting examples in the database.\n",
    "Never query for all the columns from a specific table, only ask for the relevant columns given the question.\n",
    "You have access to tools for interacting with the database.\n",
    "Only use the below tools. Only use the information returned by the below tools to construct your final answer.\n",
    "You MUST double check your query before executing it. If you get an error while executing a query, rewrite the query and try again.\n",
    "\n",
    "DO NOT make any DML statements (INSERT, UPDATE, DELETE, DROP etc.) to the database.\n",
    "\n",
    "To start you should ALWAYS look at the tables in the database to see what you can query.\n",
    "Do NOT skip this step.\n",
    "Then you should query the schema of the most relevant tables.\"\"\"\n",
    "\n",
    "system_message = SystemMessage(content=SQL_PREFIX)"
   ]
  },
  {
   "cell_type": "code",
   "execution_count": 11,
   "metadata": {},
   "outputs": [
    {
     "name": "stderr",
     "output_type": "stream",
     "text": [
      "C:\\Users\\Maciek\\AppData\\Local\\Temp\\ipykernel_14212\\1800557427.py:4: LangGraphDeprecationWarning: Parameter 'messages_modifier' in function 'create_react_agent' is deprecated as of version 0.1.9 and will be removed in version 0.3.0. Use 'state_modifier' parameter instead.\n",
      "  agent_executor = create_react_agent(llm, tools, messages_modifier=system_message)\n"
     ]
    }
   ],
   "source": [
    "from langchain_core.messages import HumanMessage\n",
    "from langgraph.prebuilt import create_react_agent\n",
    "\n",
    "agent_executor = create_react_agent(llm, tools, messages_modifier=system_message)"
   ]
  },
  {
   "cell_type": "code",
   "execution_count": 12,
   "metadata": {},
   "outputs": [],
   "source": [
    "message = HumanMessage(\n",
    "    content=\"What is the best-selling product?\"\n",
    "    )"
   ]
  },
  {
   "cell_type": "code",
   "execution_count": 13,
   "metadata": {},
   "outputs": [
    {
     "name": "stdout",
     "output_type": "stream",
     "text": [
      "{'agent': {'messages': [AIMessage(content='', additional_kwargs={'tool_calls': [{'id': 'call_KFiT7gzTC49llxSEe840TfXn', 'function': {'arguments': '{}', 'name': 'sql_db_list_tables'}, 'type': 'function'}], 'refusal': None}, response_metadata={'token_usage': {'completion_tokens': 12, 'prompt_tokens': 548, 'total_tokens': 560, 'completion_tokens_details': {'audio_tokens': None, 'reasoning_tokens': 0}, 'prompt_tokens_details': {'audio_tokens': None, 'cached_tokens': 0}}, 'model_name': 'gpt-4o-mini-2024-07-18', 'system_fingerprint': 'fp_482c22a7bc', 'finish_reason': 'tool_calls', 'logprobs': None}, id='run-23e9d915-e066-4ebd-9bc8-4bab7f9b85f1-0', tool_calls=[{'name': 'sql_db_list_tables', 'args': {}, 'id': 'call_KFiT7gzTC49llxSEe840TfXn', 'type': 'tool_call'}], usage_metadata={'input_tokens': 548, 'output_tokens': 12, 'total_tokens': 560, 'input_token_details': {'cache_read': 0}, 'output_token_details': {'reasoning': 0}})]}}\n",
      "----\n",
      "{'tools': {'messages': [ToolMessage(content='Categories, CustomerCustomerDemo, CustomerDemographics, Customers, EmployeeTerritories, Employees, Order Details, Orders, Products, Regions, Shippers, Suppliers, Territories', name='sql_db_list_tables', id='063321eb-7f77-4d6c-a4f7-8e01fb1abdc5', tool_call_id='call_KFiT7gzTC49llxSEe840TfXn')]}}\n",
      "----\n",
      "{'agent': {'messages': [AIMessage(content='', additional_kwargs={'tool_calls': [{'id': 'call_szISsX5hK5NO0gQn9jAKmAem', 'function': {'arguments': '{\"table_names\": \"Products\"}', 'name': 'sql_db_schema'}, 'type': 'function'}, {'id': 'call_Y3va6Z2az1mAZ7wbcP4VkyLm', 'function': {'arguments': '{\"table_names\": \"Order Details\"}', 'name': 'sql_db_schema'}, 'type': 'function'}, {'id': 'call_rGTEZrK9HB3gDmGLPkuK9KdY', 'function': {'arguments': '{\"table_names\": \"Orders\"}', 'name': 'sql_db_schema'}, 'type': 'function'}], 'refusal': None}, response_metadata={'token_usage': {'completion_tokens': 65, 'prompt_tokens': 603, 'total_tokens': 668, 'completion_tokens_details': {'audio_tokens': None, 'reasoning_tokens': 0}, 'prompt_tokens_details': {'audio_tokens': None, 'cached_tokens': 0}}, 'model_name': 'gpt-4o-mini-2024-07-18', 'system_fingerprint': 'fp_482c22a7bc', 'finish_reason': 'tool_calls', 'logprobs': None}, id='run-0589f281-af94-49bd-9881-57afd0d91276-0', tool_calls=[{'name': 'sql_db_schema', 'args': {'table_names': 'Products'}, 'id': 'call_szISsX5hK5NO0gQn9jAKmAem', 'type': 'tool_call'}, {'name': 'sql_db_schema', 'args': {'table_names': 'Order Details'}, 'id': 'call_Y3va6Z2az1mAZ7wbcP4VkyLm', 'type': 'tool_call'}, {'name': 'sql_db_schema', 'args': {'table_names': 'Orders'}, 'id': 'call_rGTEZrK9HB3gDmGLPkuK9KdY', 'type': 'tool_call'}], usage_metadata={'input_tokens': 603, 'output_tokens': 65, 'total_tokens': 668, 'input_token_details': {'cache_read': 0}, 'output_token_details': {'reasoning': 0}})]}}\n",
      "----\n",
      "{'tools': {'messages': [ToolMessage(content='\\nCREATE TABLE \"Products\" (\\n\\t\"ProductID\" INTEGER NOT NULL, \\n\\t\"ProductName\" TEXT NOT NULL, \\n\\t\"SupplierID\" INTEGER, \\n\\t\"CategoryID\" INTEGER, \\n\\t\"QuantityPerUnit\" TEXT, \\n\\t\"UnitPrice\" NUMERIC DEFAULT 0, \\n\\t\"UnitsInStock\" INTEGER DEFAULT 0, \\n\\t\"UnitsOnOrder\" INTEGER DEFAULT 0, \\n\\t\"ReorderLevel\" INTEGER DEFAULT 0, \\n\\t\"Discontinued\" TEXT DEFAULT \\'0\\' NOT NULL, \\n\\tPRIMARY KEY (\"ProductID\"), \\n\\tFOREIGN KEY(\"SupplierID\") REFERENCES \"Suppliers\" (\"SupplierID\"), \\n\\tFOREIGN KEY(\"CategoryID\") REFERENCES \"Categories\" (\"CategoryID\"), \\n\\tCHECK ([UnitPrice]>=(0)), \\n\\tCHECK ([ReorderLevel]>=(0)), \\n\\tCHECK ([UnitsInStock]>=(0)), \\n\\tCHECK ([UnitsOnOrder]>=(0))\\n)\\n\\n/*\\n3 rows from Products table:\\nProductID\\tProductName\\tSupplierID\\tCategoryID\\tQuantityPerUnit\\tUnitPrice\\tUnitsInStock\\tUnitsOnOrder\\tReorderLevel\\tDiscontinued\\n1\\tChai\\t1\\t1\\t10 boxes x 20 bags\\t18.0000000000\\t39\\t0\\t10\\t0\\n2\\tChang\\t1\\t1\\t24 - 12 oz bottles\\t19.0000000000\\t17\\t40\\t25\\t0\\n3\\tAniseed Syrup\\t1\\t2\\t12 - 550 ml bottles\\t10.0000000000\\t13\\t70\\t25\\t0\\n*/', name='sql_db_schema', id='17d1b844-a904-4534-803a-a30c0cd2119b', tool_call_id='call_szISsX5hK5NO0gQn9jAKmAem'), ToolMessage(content='\\nCREATE TABLE \"Order Details\" (\\n\\t\"OrderID\" INTEGER NOT NULL, \\n\\t\"ProductID\" INTEGER NOT NULL, \\n\\t\"UnitPrice\" NUMERIC DEFAULT 0 NOT NULL, \\n\\t\"Quantity\" INTEGER DEFAULT 1 NOT NULL, \\n\\t\"Discount\" REAL DEFAULT 0 NOT NULL, \\n\\tPRIMARY KEY (\"OrderID\", \"ProductID\"), \\n\\tFOREIGN KEY(\"ProductID\") REFERENCES \"Products\" (\"ProductID\"), \\n\\tFOREIGN KEY(\"OrderID\") REFERENCES \"Orders\" (\"OrderID\"), \\n\\tCHECK ([Discount]>=(0) AND [Discount]<=(1)), \\n\\tCHECK ([Quantity]>(0)), \\n\\tCHECK ([UnitPrice]>=(0))\\n)\\n\\n/*\\n3 rows from Order Details table:\\nOrderID\\tProductID\\tUnitPrice\\tQuantity\\tDiscount\\n10248\\t11\\t14.0000000000\\t12\\t0.0\\n10248\\t42\\t9.8000000000\\t10\\t0.0\\n10248\\t72\\t34.8000000000\\t5\\t0.0\\n*/', name='sql_db_schema', id='a34369b2-e700-4a52-aa0b-d101461a4a1a', tool_call_id='call_Y3va6Z2az1mAZ7wbcP4VkyLm'), ToolMessage(content='\\nCREATE TABLE \"Orders\" (\\n\\t\"OrderID\" INTEGER NOT NULL, \\n\\t\"CustomerID\" TEXT, \\n\\t\"EmployeeID\" INTEGER, \\n\\t\"OrderDate\" DATETIME, \\n\\t\"RequiredDate\" DATETIME, \\n\\t\"ShippedDate\" DATETIME, \\n\\t\"ShipVia\" INTEGER, \\n\\t\"Freight\" NUMERIC DEFAULT 0, \\n\\t\"ShipName\" TEXT, \\n\\t\"ShipAddress\" TEXT, \\n\\t\"ShipCity\" TEXT, \\n\\t\"ShipRegion\" TEXT, \\n\\t\"ShipPostalCode\" TEXT, \\n\\t\"ShipCountry\" TEXT, \\n\\tPRIMARY KEY (\"OrderID\"), \\n\\tFOREIGN KEY(\"ShipVia\") REFERENCES \"Shippers\" (\"ShipperID\"), \\n\\tFOREIGN KEY(\"CustomerID\") REFERENCES \"Customers\" (\"CustomerID\"), \\n\\tFOREIGN KEY(\"EmployeeID\") REFERENCES \"Employees\" (\"EmployeeID\")\\n)\\n\\n/*\\n3 rows from Orders table:\\nOrderID\\tCustomerID\\tEmployeeID\\tOrderDate\\tRequiredDate\\tShippedDate\\tShipVia\\tFreight\\tShipName\\tShipAddress\\tShipCity\\tShipRegion\\tShipPostalCode\\tShipCountry\\n10248\\tVINET\\t5\\t1996-07-04 00:00:00\\t1996-08-01 00:00:00\\t1996-07-16 00:00:00\\t3\\t16.7500000000\\tVins et alcools Chevalier\\t59 rue de l-Abbaye\\tReims\\tNone\\t51100\\tFrance\\n10249\\tTOMSP\\t6\\t1996-07-05 00:00:00\\t1996-08-16 00:00:00\\t1996-07-10 00:00:00\\t1\\t22.2500000000\\tToms SpezialitĂ¤ten\\tLuisenstr. 48\\tMĂĽnster\\tNone\\t44087\\tGermany\\n10250\\tHANAR\\t4\\t1996-07-08 00:00:00\\t1996-08-05 00:00:00\\t1996-07-12 00:00:00\\t2\\t25.0000000000\\tHanari Carnes\\tRua do PaĂ§o, 67\\tRio de Janeiro\\tRJ\\t05454-876\\tBrazil\\n*/', name='sql_db_schema', id='20bf8f13-8d30-4e81-a7e9-02effc64e1e6', tool_call_id='call_rGTEZrK9HB3gDmGLPkuK9KdY')]}}\n",
      "----\n",
      "{'agent': {'messages': [AIMessage(content='', additional_kwargs={'tool_calls': [{'id': 'call_VC5bQJOxoR6k7R4WfpXhhfvC', 'function': {'arguments': '{\"query\":\"SELECT p.ProductName, SUM(od.Quantity) AS TotalQuantity \\\\nFROM Products p \\\\nJOIN Order Details od ON p.ProductID = od.ProductID \\\\nGROUP BY p.ProductID \\\\nORDER BY TotalQuantity DESC \\\\nLIMIT 5;\"}', 'name': 'sql_db_query_checker'}, 'type': 'function'}], 'refusal': None}, response_metadata={'token_usage': {'completion_tokens': 67, 'prompt_tokens': 1839, 'total_tokens': 1906, 'completion_tokens_details': {'audio_tokens': None, 'reasoning_tokens': 0}, 'prompt_tokens_details': {'audio_tokens': None, 'cached_tokens': 0}}, 'model_name': 'gpt-4o-mini-2024-07-18', 'system_fingerprint': 'fp_482c22a7bc', 'finish_reason': 'tool_calls', 'logprobs': None}, id='run-445ae67b-72a6-4a29-a6ca-f114dda921ad-0', tool_calls=[{'name': 'sql_db_query_checker', 'args': {'query': 'SELECT p.ProductName, SUM(od.Quantity) AS TotalQuantity \\nFROM Products p \\nJOIN Order Details od ON p.ProductID = od.ProductID \\nGROUP BY p.ProductID \\nORDER BY TotalQuantity DESC \\nLIMIT 5;'}, 'id': 'call_VC5bQJOxoR6k7R4WfpXhhfvC', 'type': 'tool_call'}], usage_metadata={'input_tokens': 1839, 'output_tokens': 67, 'total_tokens': 1906, 'input_token_details': {'cache_read': 0}, 'output_token_details': {'reasoning': 0}})]}}\n",
      "----\n",
      "{'tools': {'messages': [ToolMessage(content='```sql\\nSELECT p.ProductName, SUM(od.Quantity) AS TotalQuantity \\nFROM Products p \\nJOIN OrderDetails od ON p.ProductID = od.ProductID \\nGROUP BY p.ProductID, p.ProductName \\nORDER BY TotalQuantity DESC \\nLIMIT 5;\\n```', name='sql_db_query_checker', id='e6da4d9d-b029-43b1-b876-166653ff5663', tool_call_id='call_VC5bQJOxoR6k7R4WfpXhhfvC')]}}\n",
      "----\n",
      "{'agent': {'messages': [AIMessage(content='', additional_kwargs={'tool_calls': [{'id': 'call_lExI4kcUmCMcrHoC0Ipbk1jt', 'function': {'arguments': '{\"query\":\"SELECT p.ProductName, SUM(od.Quantity) AS TotalQuantity \\\\nFROM Products p \\\\nJOIN \\\\\"Order Details\\\\\" od ON p.ProductID = od.ProductID \\\\nGROUP BY p.ProductID, p.ProductName \\\\nORDER BY TotalQuantity DESC \\\\nLIMIT 5;\"}', 'name': 'sql_db_query'}, 'type': 'function'}], 'refusal': None}, response_metadata={'token_usage': {'completion_tokens': 72, 'prompt_tokens': 1971, 'total_tokens': 2043, 'completion_tokens_details': {'audio_tokens': None, 'reasoning_tokens': 0}, 'prompt_tokens_details': {'audio_tokens': None, 'cached_tokens': 1792}}, 'model_name': 'gpt-4o-mini-2024-07-18', 'system_fingerprint': 'fp_482c22a7bc', 'finish_reason': 'tool_calls', 'logprobs': None}, id='run-851322dc-48e7-43cf-8367-1aac7b41ecf1-0', tool_calls=[{'name': 'sql_db_query', 'args': {'query': 'SELECT p.ProductName, SUM(od.Quantity) AS TotalQuantity \\nFROM Products p \\nJOIN \"Order Details\" od ON p.ProductID = od.ProductID \\nGROUP BY p.ProductID, p.ProductName \\nORDER BY TotalQuantity DESC \\nLIMIT 5;'}, 'id': 'call_lExI4kcUmCMcrHoC0Ipbk1jt', 'type': 'tool_call'}], usage_metadata={'input_tokens': 1971, 'output_tokens': 72, 'total_tokens': 2043, 'input_token_details': {'cache_read': 1792}, 'output_token_details': {'reasoning': 0}})]}}\n",
      "----\n",
      "{'tools': {'messages': [ToolMessage(content=\"[('Wimmers gute SemmelknĂ¶del', 212968), ('Gorgonzola Telino', 212882), ('Steeleye Stout', 211790), ('Perth Pasties', 211303), ('Zaanse koeken', 210925)]\", name='sql_db_query', id='b3251b7b-4ceb-49de-99b6-02952375a3f6', tool_call_id='call_lExI4kcUmCMcrHoC0Ipbk1jt')]}}\n",
      "----\n",
      "{'agent': {'messages': [AIMessage(content='The best-selling products are:\\n\\n1. **Wimmers gute Semmelknödel** - Sold 212,968 units\\n2. **Gorgonzola Telino** - Sold 212,882 units\\n3. **Steeleye Stout** - Sold 211,790 units\\n4. **Perth Pasties** - Sold 211,303 units\\n5. **Zaanse koeken** - Sold 210,925 units', additional_kwargs={'refusal': None}, response_metadata={'token_usage': {'completion_tokens': 93, 'prompt_tokens': 2111, 'total_tokens': 2204, 'completion_tokens_details': {'audio_tokens': None, 'reasoning_tokens': 0}, 'prompt_tokens_details': {'audio_tokens': None, 'cached_tokens': 1920}}, 'model_name': 'gpt-4o-mini-2024-07-18', 'system_fingerprint': 'fp_482c22a7bc', 'finish_reason': 'stop', 'logprobs': None}, id='run-0c8cfedf-83da-4162-a194-9b6dd60a4d5a-0', usage_metadata={'input_tokens': 2111, 'output_tokens': 93, 'total_tokens': 2204, 'input_token_details': {'cache_read': 1920}, 'output_token_details': {'reasoning': 0}})]}}\n",
      "----\n"
     ]
    }
   ],
   "source": [
    "for s in agent_executor.stream(\n",
    "    {\"messages\": [message]}\n",
    "):\n",
    "    print(s)\n",
    "    print(\"----\")"
   ]
  },
  {
   "cell_type": "code",
   "execution_count": 23,
   "metadata": {},
   "outputs": [
    {
     "name": "stdout",
     "output_type": "stream",
     "text": [
      "[AIMessage(content='The best-selling products are:\\n\\n1. **Wimmers gute Semmelknödel** - Sold 212,968 units\\n2. **Gorgonzola Telino** - Sold 212,882 units\\n3. **Steeleye Stout** - Sold 211,790 units\\n4. **Perth Pasties** - Sold 211,303 units\\n5. **Zaanse koeken** - Sold 210,925 units', additional_kwargs={'refusal': None}, response_metadata={'token_usage': {'completion_tokens': 93, 'prompt_tokens': 2111, 'total_tokens': 2204, 'completion_tokens_details': {'audio_tokens': None, 'reasoning_tokens': 0}, 'prompt_tokens_details': {'audio_tokens': None, 'cached_tokens': 1920}}, 'model_name': 'gpt-4o-mini-2024-07-18', 'system_fingerprint': 'fp_482c22a7bc', 'finish_reason': 'stop', 'logprobs': None}, id='run-0c8cfedf-83da-4162-a194-9b6dd60a4d5a-0', usage_metadata={'input_tokens': 2111, 'output_tokens': 93, 'total_tokens': 2204, 'input_token_details': {'cache_read': 1920}, 'output_token_details': {'reasoning': 0}})]\n",
      "<class 'list'>\n"
     ]
    }
   ],
   "source": [
    "print(s['agent']['messages'])\n",
    "print(type(s['agent']['messages']))"
   ]
  },
  {
   "cell_type": "code",
   "execution_count": 28,
   "metadata": {},
   "outputs": [
    {
     "name": "stdout",
     "output_type": "stream",
     "text": [
      "content='The best-selling products are:\\n\\n1. **Wimmers gute Semmelknödel** - Sold 212,968 units\\n2. **Gorgonzola Telino** - Sold 212,882 units\\n3. **Steeleye Stout** - Sold 211,790 units\\n4. **Perth Pasties** - Sold 211,303 units\\n5. **Zaanse koeken** - Sold 210,925 units' additional_kwargs={'refusal': None} response_metadata={'token_usage': {'completion_tokens': 93, 'prompt_tokens': 2111, 'total_tokens': 2204, 'completion_tokens_details': {'audio_tokens': None, 'reasoning_tokens': 0}, 'prompt_tokens_details': {'audio_tokens': None, 'cached_tokens': 1920}}, 'model_name': 'gpt-4o-mini-2024-07-18', 'system_fingerprint': 'fp_482c22a7bc', 'finish_reason': 'stop', 'logprobs': None} id='run-0c8cfedf-83da-4162-a194-9b6dd60a4d5a-0' usage_metadata={'input_tokens': 2111, 'output_tokens': 93, 'total_tokens': 2204, 'input_token_details': {'cache_read': 1920}, 'output_token_details': {'reasoning': 0}}\n",
      "<class 'langchain_core.messages.ai.AIMessage'>\n"
     ]
    }
   ],
   "source": [
    "print(s['agent']['messages'][0])\n",
    "print(type(s['agent']['messages'][0]))"
   ]
  },
  {
   "cell_type": "code",
   "execution_count": 27,
   "metadata": {},
   "outputs": [
    {
     "name": "stdout",
     "output_type": "stream",
     "text": [
      "The best-selling products are:\n",
      "\n",
      "1. **Wimmers gute Semmelknödel** - Sold 212,968 units\n",
      "2. **Gorgonzola Telino** - Sold 212,882 units\n",
      "3. **Steeleye Stout** - Sold 211,790 units\n",
      "4. **Perth Pasties** - Sold 211,303 units\n",
      "5. **Zaanse koeken** - Sold 210,925 units\n"
     ]
    }
   ],
   "source": [
    "print(s['agent']['messages'][0].content)"
   ]
  },
  {
   "cell_type": "code",
   "execution_count": 8,
   "metadata": {},
   "outputs": [
    {
     "name": "stdout",
     "output_type": "stream",
     "text": [
      "<class 'list'>\n"
     ]
    }
   ],
   "source": [
    "# sanity check\n",
    "with sqlite3.connect(database=db_path) as conn:\n",
    "    cursor = conn.cursor()\n",
    "    cursor.execute(\n",
    "        \"\"\"SELECT p.ProductName, SUM(od.Quantity) AS TotalUnitsSold\n",
    "        FROM [Order Details] od\n",
    "        JOIN Products p ON od.ProductID = p.ProductID\n",
    "        GROUP BY p.ProductName\n",
    "        ORDER BY TotalUnitsSold DESC\n",
    "        LIMIT 5;\"\"\"\n",
    "        )\n",
    "    products = cursor.fetchall()"
   ]
  },
  {
   "cell_type": "code",
   "execution_count": 13,
   "metadata": {},
   "outputs": [
    {
     "name": "stdout",
     "output_type": "stream",
     "text": [
      "<class 'list'>\n",
      "5\n",
      "Item: Wimmers gute SemmelknĂ¶del, count: 212968\n",
      "Item: Gorgonzola Telino, count: 212882\n",
      "Item: Steeleye Stout, count: 211790\n",
      "Item: Perth Pasties, count: 211303\n",
      "Item: Zaanse koeken, count: 210925\n"
     ]
    }
   ],
   "source": [
    "print(type(products))\n",
    "print(len(products))\n",
    "\n",
    "for elem in products:\n",
    "    print(f\"Item: {elem[0]}, count: {elem[1]}\")\n"
   ]
  },
  {
   "cell_type": "code",
   "execution_count": null,
   "metadata": {},
   "outputs": [],
   "source": [
    "# NL -> SQL\n",
    "# execute SQL\n",
    "# analyze / say smth smart"
   ]
  }
 ],
 "metadata": {
  "kernelspec": {
   "display_name": "venv",
   "language": "python",
   "name": "python3"
  },
  "language_info": {
   "codemirror_mode": {
    "name": "ipython",
    "version": 3
   },
   "file_extension": ".py",
   "mimetype": "text/x-python",
   "name": "python",
   "nbconvert_exporter": "python",
   "pygments_lexer": "ipython3",
   "version": "3.12.1"
  }
 },
 "nbformat": 4,
 "nbformat_minor": 2
}
