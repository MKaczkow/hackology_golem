{
 "cells": [
  {
   "cell_type": "code",
   "execution_count": 1,
   "metadata": {},
   "outputs": [],
   "source": [
    "from langgraph.graph import StateGraph"
   ]
  },
  {
   "cell_type": "code",
   "execution_count": 2,
   "metadata": {},
   "outputs": [],
   "source": [
    "class State:\n",
    "    query: str\n",
    "    query_result: dict"
   ]
  },
  {
   "cell_type": "code",
   "execution_count": 3,
   "metadata": {},
   "outputs": [],
   "source": [
    "graph = StateGraph(State)"
   ]
  },
  {
   "cell_type": "code",
   "execution_count": 4,
   "metadata": {},
   "outputs": [],
   "source": [
    "def mock_sql_query(query: str):\n",
    "    if \"SELECT\" in query.upper():\n",
    "        if \"CUSTOMERS\" in query.upper():\n",
    "            # Simulate data from the Northwind Customers table\n",
    "            return {\n",
    "                \"columns\": [\"CustomerID\", \"CompanyName\", \"ContactName\", \"Country\"],\n",
    "                \"rows\": [\n",
    "                    [\"ALFKI\", \"Alfreds Futterkiste\", \"Maria Anders\", \"Germany\"],\n",
    "                    [\"ANATR\", \"Ana Trujillo Emparedados y helados\", \"Ana Trujillo\", \"Mexico\"],\n",
    "                    [\"ANTON\", \"Antonio Moreno Taquería\", \"Antonio Moreno\", \"Mexico\"]\n",
    "                ]\n",
    "            }\n",
    "        else:\n",
    "            return {\"error\": \"Table not found in mock\"}\n",
    "    else:\n",
    "        return {\"status\": \"Query executed successfully\"}\n"
   ]
  },
  {
   "cell_type": "code",
   "execution_count": 5,
   "metadata": {},
   "outputs": [],
   "source": [
    "def execute_sql_query(state: State) -> State:\n",
    "    query_result = mock_sql_query(state['query'])\n",
    "    return {\"query_result\": query_result}\n"
   ]
  },
  {
   "cell_type": "code",
   "execution_count": null,
   "metadata": {},
   "outputs": [],
   "source": [
    "graph.add_node(\"sql_query\", execute_sql_query)"
   ]
  },
  {
   "cell_type": "code",
   "execution_count": null,
   "metadata": {},
   "outputs": [],
   "source": [
    "graph.set_entry_point(\"sql_query\")"
   ]
  },
  {
   "cell_type": "code",
   "execution_count": 8,
   "metadata": {},
   "outputs": [],
   "source": [
    "initial_state = {\"query\": \"SELECT * FROM Customers WHERE Country = 'Mexico'\"}"
   ]
  },
  {
   "cell_type": "code",
   "execution_count": null,
   "metadata": {},
   "outputs": [],
   "source": [
    "compiled_app = graph.compile()\n",
    "final_state = compiled_app.invoke(initial_state)"
   ]
  },
  {
   "cell_type": "code",
   "execution_count": null,
   "metadata": {},
   "outputs": [],
   "source": [
    "print(final_state[\"query_result\"])\n"
   ]
  },
  {
   "cell_type": "code",
   "execution_count": null,
   "metadata": {},
   "outputs": [],
   "source": []
  }
 ],
 "metadata": {
  "kernelspec": {
   "display_name": "venv",
   "language": "python",
   "name": "python3"
  },
  "language_info": {
   "codemirror_mode": {
    "name": "ipython",
    "version": 3
   },
   "file_extension": ".py",
   "mimetype": "text/x-python",
   "name": "python",
   "nbconvert_exporter": "python",
   "pygments_lexer": "ipython3",
   "version": "3.12.1"
  }
 },
 "nbformat": 4,
 "nbformat_minor": 2
}
