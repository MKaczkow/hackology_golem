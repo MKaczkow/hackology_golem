{
 "cells": [
  {
   "cell_type": "code",
   "execution_count": 1,
   "metadata": {},
   "outputs": [],
   "source": [
    "# run this notebook from root directory\n",
    "\n",
    "# based on: https://github.com/jpwhite3/northwind-SQLite3"
   ]
  },
  {
   "cell_type": "code",
   "execution_count": 3,
   "metadata": {},
   "outputs": [],
   "source": [
    "from datetime import timedelta, datetime\n",
    "from random import randint\n",
    "from random import choice as rc\n",
    "import sqlite3"
   ]
  },
  {
   "cell_type": "code",
   "execution_count": 4,
   "metadata": {},
   "outputs": [],
   "source": [
    "# This function will return a random datetime between two datetime objects.\n",
    "def random_date(start, end):\n",
    "    return start + timedelta(seconds=randint(0, int((end - start).total_seconds())))\n"
   ]
  },
  {
   "cell_type": "code",
   "execution_count": 7,
   "metadata": {},
   "outputs": [],
   "source": [
    "def initialize_database(db_name, sql_file):\n",
    "    # Connect to SQLite database (creates the file if it doesn't exist)\n",
    "    with sqlite3.connect(db_name) as conn:\n",
    "        cursor = conn.cursor()\n",
    "        \n",
    "        # Read the SQL file\n",
    "        with open(sql_file, 'r') as f:\n",
    "            sql_script = f.read()\n",
    "        \n",
    "        # Execute the SQL script to create tables and populate data\n",
    "        cursor.executescript(sql_script)\n",
    "        \n",
    "    print(f\"Database '{db_name}' initialized successfully.\")"
   ]
  },
  {
   "cell_type": "code",
   "execution_count": 1,
   "metadata": {},
   "outputs": [],
   "source": [
    "# specified relative to the root directory\n",
    "DB_PATH = r\"data/northwind_example_db/sqlite_northwind.db\"\n",
    "SQL_FILE_PATH = r\"data/northwind_example_db/create.sql\""
   ]
  },
  {
   "cell_type": "code",
   "execution_count": 10,
   "metadata": {},
   "outputs": [],
   "source": [
    "# get files from repo: https://github.com/jpwhite3/northwind-SQLite3/tree/main\n",
    "# specifically:\n",
    "# SQL create file -> https://github.com/jpwhite3/northwind-SQLite3/blob/main/src/create.sql\n",
    "# DB file should get created automatically"
   ]
  },
  {
   "cell_type": "code",
   "execution_count": 9,
   "metadata": {},
   "outputs": [
    {
     "name": "stdout",
     "output_type": "stream",
     "text": [
      "Database 'data/northwind_example_db/sqlite_northwind.db' initialized successfully.\n"
     ]
    }
   ],
   "source": [
    "initialize_database(DB_PATH, SQL_FILE_PATH)"
   ]
  },
  {
   "cell_type": "code",
   "execution_count": 11,
   "metadata": {},
   "outputs": [],
   "source": [
    "# Connect to the DB\n",
    "conn = sqlite3.connect(DB_PATH)\n",
    "c = conn.cursor()\n"
   ]
  },
  {
   "cell_type": "code",
   "execution_count": 12,
   "metadata": {},
   "outputs": [],
   "source": [
    "# ShipName, ShipAddress, ShipCity, ShipRegion, ShipPostalCode\n",
    "c.execute(\n",
    "    \"select distinct ShipName, ShipAddress, ShipCity, ShipRegion, ShipPostalCode, ShipCountry from [Orders]\"\n",
    ")\n",
    "locations = [(row[0], row[1], row[2], row[3], row[4], row[5]) for row in c.fetchall()]\n",
    "\n"
   ]
  },
  {
   "cell_type": "code",
   "execution_count": 13,
   "metadata": {},
   "outputs": [],
   "source": [
    "# Customer.Id\n",
    "c.execute(\"select distinct EmployeeId from [Employees]\")\n",
    "employees = [row[0] for row in c.fetchall()]"
   ]
  },
  {
   "cell_type": "code",
   "execution_count": 14,
   "metadata": {},
   "outputs": [],
   "source": [
    "# Shipper.Id\n",
    "c.execute(\"select distinct ShipperId from [Shippers]\")\n",
    "shippers = [row[0] for row in c.fetchall()]"
   ]
  },
  {
   "cell_type": "code",
   "execution_count": 15,
   "metadata": {},
   "outputs": [],
   "source": [
    "# Customer.Id\n",
    "c.execute(\"select distinct CustomerId from [Customers]\")\n",
    "customers = [row[0] for row in c.fetchall()]\n"
   ]
  },
  {
   "cell_type": "code",
   "execution_count": 16,
   "metadata": {},
   "outputs": [
    {
     "name": "stderr",
     "output_type": "stream",
     "text": [
      "C:\\Users\\Maciek\\AppData\\Local\\Temp\\ipykernel_18936\\1996910790.py:27: DeprecationWarning: The default datetime adapter is deprecated as of Python 3.12; see the sqlite3 documentation for suggested replacement recipes\n",
      "  c.execute(sql, params)\n"
     ]
    }
   ],
   "source": [
    "# Create a bunch of new orders\n",
    "for i in range(randint(15000, 16000)):\n",
    "    sql = \"INSERT INTO [Orders] (CustomerId, EmployeeId, OrderDate, RequiredDate, ShippedDate, ShipVia, Freight, ShipName, ShipAddress, ShipCity, ShipRegion, ShipPostalCode, ShipCountry) VALUES (?, ?, ?, ?, ?, ?, ?, ?, ?, ?, ?, ?, ?)\"\n",
    "    location = rc(locations)\n",
    "    order_date = random_date(\n",
    "        datetime.strptime(\"2012-07-10\", \"%Y-%m-%d\"), datetime.today()\n",
    "    )\n",
    "    required_date = random_date(\n",
    "        order_date, order_date + timedelta(days=randint(14, 60))\n",
    "    )\n",
    "    shipped_date = random_date(order_date, order_date + timedelta(days=randint(1, 30)))\n",
    "    params = (\n",
    "        rc(customers),  # CustomerId\n",
    "        rc(employees),  # EmployeeId\n",
    "        order_date,  # OrderDate\n",
    "        required_date,  # RequiredDate\n",
    "        shipped_date,  # ShippedDate\n",
    "        rc(shippers),  # ShipVia\n",
    "        0.00,  # Freight\n",
    "        location[0],  # ShipName\n",
    "        location[1],  # ShipAddress\n",
    "        location[2],  # ShipCity\n",
    "        location[3],  # ShipRegion\n",
    "        location[4],  # ShipPostalCode\n",
    "        location[5],  # ShipCountry\n",
    "    )\n",
    "    c.execute(sql, params)\n",
    "\n"
   ]
  },
  {
   "cell_type": "code",
   "execution_count": 17,
   "metadata": {},
   "outputs": [],
   "source": [
    "# Product.Id\n",
    "c.execute(\"select distinct ProductId, UnitPrice from [Products]\")\n",
    "products = [(row[0], row[1]) for row in c.fetchall()]"
   ]
  },
  {
   "cell_type": "code",
   "execution_count": 18,
   "metadata": {},
   "outputs": [],
   "source": [
    "# Order.Id\n",
    "c.execute(\"select distinct OrderId from [Orders] where Freight = 0.00\")\n",
    "orders = [row[0] for row in c.fetchall()]"
   ]
  },
  {
   "cell_type": "code",
   "execution_count": 19,
   "metadata": {},
   "outputs": [],
   "source": [
    "# Fill the order with items\n",
    "for order in orders:\n",
    "    used = []\n",
    "    for x in range(randint(1, len(products))):\n",
    "        sql = \"INSERT INTO [Order Details] (OrderId, ProductId, UnitPrice, Quantity, Discount) VALUES (?, ?, ?, ?, ?)\"\n",
    "        control = 1\n",
    "        while control:\n",
    "            product = rc(products)\n",
    "            if product not in used:\n",
    "                used.append(product)\n",
    "                control = 0\n",
    "        params = (\n",
    "            # \"%s/%s\" % (order, product[0]),\n",
    "            order,  # OrderId\n",
    "            product[0],  # ProductId\n",
    "            product[1],  # UnitPrice\n",
    "            randint(1, 50),  # Quantity\n",
    "            0,  # Discount\n",
    "        )\n",
    "        c.execute(sql, params)\n"
   ]
  },
  {
   "cell_type": "code",
   "execution_count": 20,
   "metadata": {},
   "outputs": [],
   "source": [
    "# c.execute('update [Order] set OrderDate = date(OrderDate), RequiredDate = date(RequiredDate), ShippedDate = date(ShippedDate)')\n",
    "c.execute(\"select sum(Quantity)*0.25+10, OrderId from [Order Details] group by OrderId\")\n",
    "orders = [(row[0], row[1]) for row in c.fetchall()]\n",
    "for order in orders:\n",
    "    c.execute(\"update [Orders] set Freight=? where OrderId=?\", (order[0], order[1]))\n"
   ]
  },
  {
   "cell_type": "code",
   "execution_count": 21,
   "metadata": {},
   "outputs": [],
   "source": [
    "conn.commit()\n",
    "conn.close()"
   ]
  },
  {
   "cell_type": "code",
   "execution_count": null,
   "metadata": {},
   "outputs": [],
   "source": []
  }
 ],
 "metadata": {
  "kernelspec": {
   "display_name": "venv",
   "language": "python",
   "name": "python3"
  },
  "language_info": {
   "codemirror_mode": {
    "name": "ipython",
    "version": 3
   },
   "file_extension": ".py",
   "mimetype": "text/x-python",
   "name": "python",
   "nbconvert_exporter": "python",
   "pygments_lexer": "ipython3",
   "version": "3.12.1"
  }
 },
 "nbformat": 4,
 "nbformat_minor": 2
}
